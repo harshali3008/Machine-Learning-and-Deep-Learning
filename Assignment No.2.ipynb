{
 "cells": [
  {
   "cell_type": "markdown",
   "metadata": {},
   "source": [
    "## Name : kanase Harshali Suresh\n",
    "## Referral id:SIRSS1120\n"
   ]
  },
  {
   "cell_type": "markdown",
   "metadata": {},
   "source": [
    "## Q1.Write a lambda expression to extract first word of a string.\n"
   ]
  },
  {
   "cell_type": "code",
   "execution_count": 7,
   "metadata": {},
   "outputs": [
    {
     "data": {
      "text/plain": [
       "'M'"
      ]
     },
     "execution_count": 7,
     "metadata": {},
     "output_type": "execute_result"
    }
   ],
   "source": [
    "x = lambda a : a.split()[0][0]\n",
    "    \n",
    "x('My name is Harshali')"
   ]
  },
  {
   "cell_type": "markdown",
   "metadata": {},
   "source": [
    "## Q2.Write a function to extract first word of a string."
   ]
  },
  {
   "cell_type": "code",
   "execution_count": 8,
   "metadata": {},
   "outputs": [
    {
     "data": {
      "text/plain": [
       "'My'"
      ]
     },
     "execution_count": 8,
     "metadata": {},
     "output_type": "execute_result"
    }
   ],
   "source": [
    "x = lambda a : a.split()[0]\n",
    "\n",
    "x('My name is Harshali')"
   ]
  },
  {
   "cell_type": "markdown",
   "metadata": {},
   "source": [
    "## Q3. Extract the first word from every string from a list of string by using map function."
   ]
  },
  {
   "cell_type": "code",
   "execution_count": 3,
   "metadata": {},
   "outputs": [
    {
     "data": {
      "text/plain": [
       "['She', 'He', 'True']"
      ]
     },
     "execution_count": 3,
     "metadata": {},
     "output_type": "execute_result"
    }
   ],
   "source": [
    "lst = ['She is very good','He is very Bad','True that']\n",
    "\n",
    "list(map(x, lst))"
   ]
  },
  {
   "cell_type": "markdown",
   "metadata": {},
   "source": [
    "## Q4.Write a function to return a list of prime factors of a given number."
   ]
  },
  {
   "cell_type": "code",
   "execution_count": 9,
   "metadata": {},
   "outputs": [
    {
     "data": {
      "text/plain": [
       "[2, 2, 2, 3, 5]"
      ]
     },
     "execution_count": 9,
     "metadata": {},
     "output_type": "execute_result"
    }
   ],
   "source": [
    "import math\n",
    "\n",
    "def check_prime(x):\n",
    "    \"\"\"Function accept a number and check if the number is prime or not\"\"\"\n",
    "    \n",
    "    for i in range(2,x):\n",
    "        if x % i == 0:\n",
    "            flag = False\n",
    "            break\n",
    "        else:\n",
    "            flag = True\n",
    "        \n",
    "    return flag\n",
    "\n",
    "#function to return a list of prime factors of given number!\n",
    "def prime_factor(x):\n",
    "    \"\"\"Function accepts a number and returns list of prime factors for it\"\"\"\n",
    "    factors = []\n",
    "    check = check_prime(x)\n",
    "    if not(check):\n",
    "        i = 2\n",
    "        while i <= x:            \n",
    "            if(x % i == 0):\n",
    "                factors.append(i)\n",
    "                x = math.floor(x // i)\n",
    "            else: \n",
    "                i += 1\n",
    "\n",
    "    else:\n",
    "        factors.append('This is prime number')\n",
    "        \n",
    "    return factors\n",
    "\n",
    "prime_factor(120)\n"
   ]
  },
  {
   "cell_type": "markdown",
   "metadata": {},
   "source": [
    "## Q5. Write a function that finds second largest among 4 number (Repetitions are allowed,without sorting). "
   ]
  },
  {
   "cell_type": "code",
   "execution_count": 10,
   "metadata": {},
   "outputs": [
    {
     "data": {
      "text/plain": [
       "2"
      ]
     },
     "execution_count": 10,
     "metadata": {},
     "output_type": "execute_result"
    }
   ],
   "source": [
    "lst = [23,2,23,2]\n",
    "def remove_element(lst,element):\n",
    "    lst.remove(element)\n",
    "    return lst\n",
    "\n",
    "def second_largest(lst):\n",
    "    \"\"\"Function take list of the numeber and finds 2nd largest among them\"\"\"\n",
    "    \n",
    "    for j in range(3):\n",
    "        lar = lst[0]\n",
    "        for i in range(len(lst)):\n",
    "            if lst[i] > lar:\n",
    "                lar = lst[i]\n",
    "                \n",
    "        if j != 2:\n",
    "            lst = remove_element(lst,lar)\n",
    "#         print(lst)\n",
    "    \n",
    "    return lar\n",
    "        \n",
    "second_largest(lst)\n"
   ]
  },
  {
   "cell_type": "code",
   "execution_count": null,
   "metadata": {},
   "outputs": [],
   "source": []
  }
 ],
 "metadata": {
  "kernelspec": {
   "display_name": "Python 3",
   "language": "python",
   "name": "python3"
  },
  "language_info": {
   "codemirror_mode": {
    "name": "ipython",
    "version": 3
   },
   "file_extension": ".py",
   "mimetype": "text/x-python",
   "name": "python",
   "nbconvert_exporter": "python",
   "pygments_lexer": "ipython3",
   "version": "3.8.5"
  }
 },
 "nbformat": 4,
 "nbformat_minor": 4
}
